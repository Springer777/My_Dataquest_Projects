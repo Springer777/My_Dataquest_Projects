{
 "cells": [
  {
   "cell_type": "markdown",
   "metadata": {},
   "source": [
    "# Profitable App Profiles for the App Store and Google Play Markets\n",
    "\n",
    "Our company builds Android and iOS mobile apps. Since we only build apps that are free to download and install, our main source of revenue is the in-app ads. This means that our company's revenue is determined by the number of users of our apps. The more users see and engage with the ads the more our revenue becpmes. The purpose of this project is to analyze data to help our developers understand what type of apps are likely to attract more users.\n",
    "\n",
    "### Collection of the Data set\n",
    "According to Statista, as of September 2018, there were approximately 2 million iOS apps available on the Spp Store, and 2.1 million Android apps on Google Play. Collecting data for over 4 million apps requires a significant amount of time and money. So we will collect and analyze a sample of the data.\n",
    "\n",
    "There are two data sets that contain sample of data we need. The first one can is data about approximately 10,000 Android apps from Google Play, which was collected in August 2018. It can be downloaded from [this link](https://www.kaggle.com/datasets/lava18/google-play-store-apps).\n",
    "\n",
    "The second data set contains about approximately 7,000 iOS apps from the App Store, which was collected in July 2017. This data set can be downloaded from [this link](https://www.kaggle.com/datasets/ramamet4/app-store-apple-data-set-10k-apps) "
   ]
  },
  {
   "cell_type": "code",
   "execution_count": 1,
   "metadata": {},
   "outputs": [],
   "source": [
    "# opening the dataset of google play apps and creating a list out of it\n",
    "# make sure to separate the headers of the dataset and the actual data\n",
    "from csv import reader\n",
    "\n",
    "opened_file = open('AppleStore.csv')\n",
    "read_file = reader(opened_file)\n",
    "ios = list(read_file)\n",
    "ios_header = ios[0]\n",
    "ios = ios[1:]\n",
    "\n",
    "opened_file = open('googleplaystore.csv')\n",
    "read_file = reader(opened_file)\n",
    "android = list(read_file)\n",
    "android_header = android[0]\n",
    "android = android[1:]"
   ]
  },
  {
   "cell_type": "code",
   "execution_count": 2,
   "metadata": {
    "scrolled": true
   },
   "outputs": [
    {
     "name": "stdout",
     "output_type": "stream",
     "text": [
      "['App', 'Category', 'Rating', 'Reviews', 'Size', 'Installs', 'Type', 'Price', 'Content Rating', 'Genres', 'Last Updated', 'Current Ver', 'Android Ver']\n",
      "\n",
      "\n",
      "['Photo Editor & Candy Camera & Grid & ScrapBook', 'ART_AND_DESIGN', '4.1', '159', '19M', '10,000+', 'Free', '0', 'Everyone', 'Art & Design', 'January 7, 2018', '1.0.0', '4.0.3 and up']\n",
      "\n",
      "\n",
      "['Coloring book moana', 'ART_AND_DESIGN', '3.9', '967', '14M', '500,000+', 'Free', '0', 'Everyone', 'Art & Design;Pretend Play', 'January 15, 2018', '2.0.0', '4.0.3 and up']\n",
      "\n",
      "\n",
      "['U Launcher Lite – FREE Live Cool Themes, Hide Apps', 'ART_AND_DESIGN', '4.7', '87510', '8.7M', '5,000,000+', 'Free', '0', 'Everyone', 'Art & Design', 'August 1, 2018', '1.2.4', '4.0.3 and up']\n",
      "\n",
      "\n",
      "Number of rows:  10841\n",
      "Number of columns:  13\n"
     ]
    }
   ],
   "source": [
    "# f you run into an error named UnicodeDecodeError, add encoding=\"utf8\" to the open() function \n",
    "# (for instance, use open('AppleStore.csv', encoding='utf8')).\n",
    "def explore_data(dataset, start, end, rows_and_columns=False):\n",
    "    dataset_slice = dataset[start:end]\n",
    "    for row in dataset_slice:\n",
    "        print(row)\n",
    "        print('\\n')\n",
    "    \n",
    "    if rows_and_columns:\n",
    "        print('Number of rows: ', len(dataset))\n",
    "        print('Number of columns: ', len(dataset[0]))\n",
    "        \n",
    "print(android_header)\n",
    "print('\\n')\n",
    "explore_data(android, 0, 3, True)"
   ]
  },
  {
   "cell_type": "code",
   "execution_count": 3,
   "metadata": {},
   "outputs": [
    {
     "name": "stdout",
     "output_type": "stream",
     "text": [
      "['id', 'track_name', 'size_bytes', 'currency', 'price', 'rating_count_tot', 'rating_count_ver', 'user_rating', 'user_rating_ver', 'ver', 'cont_rating', 'prime_genre', 'sup_devices.num', 'ipadSc_urls.num', 'lang.num', 'vpp_lic']\n",
      "\n",
      "\n",
      "['284882215', 'Facebook', '389879808', 'USD', '0.0', '2974676', '212', '3.5', '3.5', '95.0', '4+', 'Social Networking', '37', '1', '29', '1']\n",
      "\n",
      "\n",
      "['389801252', 'Instagram', '113954816', 'USD', '0.0', '2161558', '1289', '4.5', '4.0', '10.23', '12+', 'Photo & Video', '37', '0', '29', '1']\n",
      "\n",
      "\n",
      "['529479190', 'Clash of Clans', '116476928', 'USD', '0.0', '2130805', '579', '4.5', '4.5', '9.24.12', '9+', 'Games', '38', '5', '18', '1']\n",
      "\n",
      "\n",
      "Number of rows:  7197\n",
      "Number of columns:  16\n"
     ]
    }
   ],
   "source": [
    "print(ios_header)\n",
    "print('\\n')\n",
    "explore_data(ios, 0, 3, True)"
   ]
  },
  {
   "cell_type": "markdown",
   "metadata": {},
   "source": [
    "# Deleting Wrong Data\n",
    "\n",
    "At this stage, we need to make sure the data we analyze is accurate, or the results of our analysis will be wrong. So we will do **data cleaning** before the analysis, and these are the following activities we will do:\n",
    "\n",
    "- Detect inaccurate data, and correct or remove it.\n",
    "- Detect duplicate data, and remove the duplicates.\n",
    "- Remove non-English apps\n",
    "- Remove apps that aren't free"
   ]
  },
  {
   "cell_type": "markdown",
   "metadata": {},
   "source": [
    "In a dedicated discussion section of the Google Play data set, one of the discussions outlines an error for row 10472. Let's print this row and compare it against the header and another row that is correct "
   ]
  },
  {
   "cell_type": "code",
   "execution_count": 4,
   "metadata": {},
   "outputs": [
    {
     "name": "stdout",
     "output_type": "stream",
     "text": [
      "['Life Made WI-Fi Touchscreen Photo Frame', '1.9', '19', '3.0M', '1,000+', 'Free', '0', 'Everyone', '', 'February 11, 2018', '1.0.19', '4.0 and up']\n",
      "\n",
      "\n",
      "['App', 'Category', 'Rating', 'Reviews', 'Size', 'Installs', 'Type', 'Price', 'Content Rating', 'Genres', 'Last Updated', 'Current Ver', 'Android Ver']\n",
      "\n",
      "\n",
      "['Photo Editor & Candy Camera & Grid & ScrapBook', 'ART_AND_DESIGN', '4.1', '159', '19M', '10,000+', 'Free', '0', 'Everyone', 'Art & Design', 'January 7, 2018', '1.0.0', '4.0.3 and up']\n"
     ]
    }
   ],
   "source": [
    "print(android[10472]) #incorrect row\n",
    "print('\\n')\n",
    "print(android_header) # header\n",
    "print('\\n')\n",
    "print(android[0])     # correct row"
   ]
  },
  {
   "cell_type": "markdown",
   "metadata": {},
   "source": [
    "After analyzing the result printed above it is identified that the row 10472 corresponds to the app *Life MAde WI-Fi Touchscreen Photo Frame*, which has a rating of 19. This is obviously inadmissible because the maximum rating for a Google Play app is 5. As mentioned in the discussion section, this problem is caused by a missing value in the *'Category'* column. Therefore, we will delete this row."
   ]
  },
  {
   "cell_type": "code",
   "execution_count": 5,
   "metadata": {},
   "outputs": [
    {
     "name": "stdout",
     "output_type": "stream",
     "text": [
      "10841\n",
      "10840\n"
     ]
    }
   ],
   "source": [
    "print(len(android))\n",
    "del android[10472] # don't run this more than once\n",
    "print(len(android))"
   ]
  },
  {
   "cell_type": "markdown",
   "metadata": {},
   "source": [
    "# Removing duplicate entries\n",
    "\n",
    "Some apps on the Google Play have duplicate entries. For instance, instagram has four entries."
   ]
  },
  {
   "cell_type": "code",
   "execution_count": 6,
   "metadata": {},
   "outputs": [
    {
     "name": "stdout",
     "output_type": "stream",
     "text": [
      "['Instagram', 'SOCIAL', '4.5', '66577313', 'Varies with device', '1,000,000,000+', 'Free', '0', 'Teen', 'Social', 'July 31, 2018', 'Varies with device', 'Varies with device']\n",
      "['Instagram', 'SOCIAL', '4.5', '66577446', 'Varies with device', '1,000,000,000+', 'Free', '0', 'Teen', 'Social', 'July 31, 2018', 'Varies with device', 'Varies with device']\n",
      "['Instagram', 'SOCIAL', '4.5', '66577313', 'Varies with device', '1,000,000,000+', 'Free', '0', 'Teen', 'Social', 'July 31, 2018', 'Varies with device', 'Varies with device']\n",
      "['Instagram', 'SOCIAL', '4.5', '66509917', 'Varies with device', '1,000,000,000+', 'Free', '0', 'Teen', 'Social', 'July 31, 2018', 'Varies with device', 'Varies with device']\n"
     ]
    }
   ],
   "source": [
    "for app in android:\n",
    "    name = app[0]\n",
    "    if name == 'Instagram':\n",
    "        print(app)"
   ]
  },
  {
   "cell_type": "code",
   "execution_count": 7,
   "metadata": {},
   "outputs": [
    {
     "name": "stdout",
     "output_type": "stream",
     "text": [
      "The number of duplicate apps is  1181\n",
      "The number of unique apps is  9659\n"
     ]
    }
   ],
   "source": [
    "# we need to remove the duplicate entries and keep only one entry per app.\n",
    "duplicate_apps = []\n",
    "unique_apps = []\n",
    "\n",
    "for app in android:\n",
    "    name = app[0]\n",
    "    if name in unique_apps:\n",
    "        duplicate_apps.append(name)\n",
    "    else:\n",
    "        unique_apps.append(name)\n",
    "        \n",
    "print('The number of duplicate apps is ', len(duplicate_apps))\n",
    "print('The number of unique apps is ', len(unique_apps))"
   ]
  },
  {
   "cell_type": "markdown",
   "metadata": {},
   "source": [
    "To remove the duplicates, we will do the following:\n",
    "\n",
    "- Create a dictionary, where each dictionary key is a unique app name and the corresponding dictionary value is the highest number of reviews of that app.\n",
    "\n",
    "- Use the information stored in the dictionary and create a new dataset, which will have only one entry per app (and for each app, we'll only select the entry with the highest number of reviews)."
   ]
  },
  {
   "cell_type": "code",
   "execution_count": 8,
   "metadata": {},
   "outputs": [
    {
     "name": "stdout",
     "output_type": "stream",
     "text": [
      "The number of apps without duplication is  9659\n"
     ]
    }
   ],
   "source": [
    "reviews_max = {}\n",
    "for app in android:\n",
    "    name = app[0]\n",
    "    n_reviews = app[3]\n",
    "    if name in reviews_max and n_reviews > reviews_max[name]:\n",
    "        reviews_max[name] = n_reviews\n",
    "    elif name not in reviews_max:\n",
    "        reviews_max[name] = n_reviews\n",
    "\n",
    "print('The number of apps without duplication is ', len(reviews_max))"
   ]
  },
  {
   "cell_type": "markdown",
   "metadata": {},
   "source": [
    "Now we can delete the duplicate rows using the dictionary created (ie. *reviews_max*) and create a new list with no duplicate data (we will call this new list *android_clean*)."
   ]
  },
  {
   "cell_type": "code",
   "execution_count": 9,
   "metadata": {},
   "outputs": [],
   "source": [
    "android_clean = []\n",
    "already_added = []\n",
    "\n",
    "for app in android:\n",
    "    name = app[0]\n",
    "    n_reviews = app[3]\n",
    "    \n",
    "    if (reviews_max[name] == n_reviews) and (name not in already_added):\n",
    "        android_clean.append(app)\n",
    "        already_added.append(name) # make sure this is inside the if block"
   ]
  },
  {
   "cell_type": "code",
   "execution_count": 10,
   "metadata": {},
   "outputs": [
    {
     "name": "stdout",
     "output_type": "stream",
     "text": [
      "['Photo Editor & Candy Camera & Grid & ScrapBook', 'ART_AND_DESIGN', '4.1', '159', '19M', '10,000+', 'Free', '0', 'Everyone', 'Art & Design', 'January 7, 2018', '1.0.0', '4.0.3 and up']\n",
      "\n",
      "\n",
      "['U Launcher Lite – FREE Live Cool Themes, Hide Apps', 'ART_AND_DESIGN', '4.7', '87510', '8.7M', '5,000,000+', 'Free', '0', 'Everyone', 'Art & Design', 'August 1, 2018', '1.2.4', '4.0.3 and up']\n",
      "\n",
      "\n",
      "['Sketch - Draw & Paint', 'ART_AND_DESIGN', '4.5', '215644', '25M', '50,000,000+', 'Free', '0', 'Teen', 'Art & Design', 'June 8, 2018', 'Varies with device', '4.2 and up']\n",
      "\n",
      "\n",
      "Number of rows:  9659\n",
      "Number of columns:  13\n"
     ]
    }
   ],
   "source": [
    "# after running this line, we are expecting our new list to have 9,659 rows like\n",
    "# we had from our dictionary\n",
    "explore_data(android_clean, 0, 3, True)"
   ]
  },
  {
   "cell_type": "markdown",
   "metadata": {},
   "source": [
    "# Removing Non-English apps\n",
    "\n",
    "Since we use English for the apps we develop at our company, we'd like to analyze only the apps that are designed for an English-speaking audience. So we will remove all the non-English apps.\n",
    "\n",
    "One way to do this is to remove each app with a name containing a symbol that isn't commonly used in English text. The numbers corresponding to the characters we commonly use in an English text are all in the range 0 to 127, according to the ASCII (American Standard Code for Information Interchange) system. \n",
    "\n",
    "If an app name contains a character that is greater than 127, then it probably means that the app has a non-English name."
   ]
  },
  {
   "cell_type": "code",
   "execution_count": 11,
   "metadata": {},
   "outputs": [],
   "source": [
    "def is_english(string):\n",
    "    \n",
    "    non_ascii = 0\n",
    "    \n",
    "    for character in string:\n",
    "        if ord(character) > 127:\n",
    "            non_ascii += 1\n",
    "            \n",
    "    # emojis and characters like ™ fall outside the ASCII range and have corresponding numbers over 127 \n",
    "    # so to minimize the impact of the loss of English apps with emojis and special characters, \n",
    "    # we'll only remove an app if its name has more than three characters with corresponding numbers falling outside the ASCII range\n",
    " \n",
    "    if non_ascii > 3:\n",
    "        return False\n",
    "    else:\n",
    "        return True"
   ]
  },
  {
   "cell_type": "markdown",
   "metadata": {},
   "source": [
    "Using new function *is_english()*, we can filter out non-English apps from both datasets. We loop through each dataset, and if an app name is identified as English, we append the whole row to a separate list."
   ]
  },
  {
   "cell_type": "code",
   "execution_count": 12,
   "metadata": {},
   "outputs": [
    {
     "name": "stdout",
     "output_type": "stream",
     "text": [
      "['Photo Editor & Candy Camera & Grid & ScrapBook', 'ART_AND_DESIGN', '4.1', '159', '19M', '10,000+', 'Free', '0', 'Everyone', 'Art & Design', 'January 7, 2018', '1.0.0', '4.0.3 and up']\n",
      "\n",
      "\n",
      "['U Launcher Lite – FREE Live Cool Themes, Hide Apps', 'ART_AND_DESIGN', '4.7', '87510', '8.7M', '5,000,000+', 'Free', '0', 'Everyone', 'Art & Design', 'August 1, 2018', '1.2.4', '4.0.3 and up']\n",
      "\n",
      "\n",
      "['Sketch - Draw & Paint', 'ART_AND_DESIGN', '4.5', '215644', '25M', '50,000,000+', 'Free', '0', 'Teen', 'Art & Design', 'June 8, 2018', 'Varies with device', '4.2 and up']\n",
      "\n",
      "\n",
      "Number of rows:  9614\n",
      "Number of columns:  13\n",
      "\n",
      "\n",
      "['284882215', 'Facebook', '389879808', 'USD', '0.0', '2974676', '212', '3.5', '3.5', '95.0', '4+', 'Social Networking', '37', '1', '29', '1']\n",
      "\n",
      "\n",
      "['389801252', 'Instagram', '113954816', 'USD', '0.0', '2161558', '1289', '4.5', '4.0', '10.23', '12+', 'Photo & Video', '37', '0', '29', '1']\n",
      "\n",
      "\n",
      "['529479190', 'Clash of Clans', '116476928', 'USD', '0.0', '2130805', '579', '4.5', '4.5', '9.24.12', '9+', 'Games', '38', '5', '18', '1']\n",
      "\n",
      "\n",
      "Number of rows:  6183\n",
      "Number of columns:  16\n"
     ]
    }
   ],
   "source": [
    "android_english = []\n",
    "ios_english = []\n",
    "\n",
    "for app in android_clean:\n",
    "    name = app[0]\n",
    "    if is_english(name):\n",
    "        android_english.append(app)\n",
    "        \n",
    "for app in ios:\n",
    "    name = app[1]\n",
    "    if is_english(name):\n",
    "        ios_english.append(app)\n",
    "        \n",
    "explore_data(android_english, 0, 3, True)\n",
    "print('\\n')\n",
    "explore_data(ios_english, 0, 3, True)"
   ]
  },
  {
   "cell_type": "markdown",
   "metadata": {},
   "source": [
    "Our datasets contain both free and non-free apps; we'll need to isolate only the free apps for our analysis. We do this by noticing the apps with the price of 0. We will add those apps to a new list, which will be our final list for the analysis."
   ]
  },
  {
   "cell_type": "code",
   "execution_count": 13,
   "metadata": {},
   "outputs": [
    {
     "name": "stdout",
     "output_type": "stream",
     "text": [
      "8862\n",
      "3222\n",
      "['App', 'Category', 'Rating', 'Reviews', 'Size', 'Installs', 'Type', 'Price', 'Content Rating', 'Genres', 'Last Updated', 'Current Ver', 'Android Ver']\n"
     ]
    }
   ],
   "source": [
    "android_final = []\n",
    "ios_final = []\n",
    "\n",
    "for app in android_english:\n",
    "    price = app[7]\n",
    "    if price == '0':\n",
    "        android_final.append(app)\n",
    "        \n",
    "for app in ios_english:\n",
    "    price = app[4]\n",
    "    if price == '0.0':\n",
    "        ios_final.append(app)\n",
    "        \n",
    "print(len(android_final))\n",
    "print(len(ios_final))\n",
    "print(android_header)\n",
    "        \n",
    "    "
   ]
  },
  {
   "cell_type": "markdown",
   "metadata": {},
   "source": [
    "## The context of our project\n",
    "### why we want to find an app profile that fits both the App Store and Google Play\n",
    "\n",
    "Our goal is to determine the kinds of apps that are likely to attract more users because the number of people using our apps affect our revenue.\n",
    "To minimize risks and overhead, our **validation strategy** for an app idea has three steps:\n",
    "\n",
    "1. Build a minimal Android version of the app, and add it to Google Play.\n",
    "2. If the app has a good response from users, we develop it further.\n",
    "3. If the app is profitable after six months, we build an iOS version of the app and add it to the App Store.\n",
    "\n",
    "Because our end goal is to add the app on both Google Play and the App Store, we need to find app profiles that are successful in both markets. For instance, a profile that works well for both markets might be a productivity app that makes use of gamification.\n",
    "\n",
    "## Most Common Apps by Genre\n",
    "\n",
    "The next thing we want to do is to identify the columns that can be used to generate frequency tables to determine the most common genres in each market. After inspection of both data sets,  we'll build a frequency table for the *prime_genre* column of the App Store data set, and for the *Genres* and *Category* columns of the Google Play data set."
   ]
  },
  {
   "cell_type": "code",
   "execution_count": 14,
   "metadata": {},
   "outputs": [],
   "source": [
    "#Since we want to compute the number or the percentage of the apps that belong to a  particular genre it is reasonable to use dictionary\n",
    "def freq_table(dataset, index):\n",
    "    table = {}\n",
    "    total = 0\n",
    "    \n",
    "    for row in dataset:\n",
    "        total += 1\n",
    "        genre = row[index]\n",
    "        if genre in table:\n",
    "            table[genre] += 1\n",
    "        else:\n",
    "            table[genre] = 1\n",
    "            \n",
    "    freq_percentage = {}\n",
    "    for key in table:\n",
    "        freq_percentage[key] = (table[key]/total) * 100\n",
    "        \n",
    "    return freq_percentage\n",
    "\n",
    "# dictionaries don't have order, and it will be very difficult to analyze the frequency tables. \n",
    "# We'll need to build a second function that can help us display the entries in the frequency \n",
    "# table in descending order.\n",
    "# This function takes in an iterable data type (like a list, dictionary, tuple, etc.), and returns \n",
    "# a list of the elements of that iterable sorted in ascending or descending order (the reverse parameter \n",
    "# controls whether the order is ascending or descending).\n",
    "def display_table(dataset, index):\n",
    "    table_display = []\n",
    "    table = freq_table(dataset, index)\n",
    "    for key in table:\n",
    "        key_as_a_tuple = (table[key], key)\n",
    "        table_display.append(key_as_a_tuple)\n",
    "        \n",
    "    table_sorted = sorted(table_display, reverse=True)\n",
    "    for entry in table_sorted:\n",
    "        print(entry[1], \" : \", entry[0])              "
   ]
  },
  {
   "cell_type": "code",
   "execution_count": 15,
   "metadata": {},
   "outputs": [
    {
     "name": "stdout",
     "output_type": "stream",
     "text": [
      "Games  :  58.16263190564867\n",
      "Entertainment  :  7.883302296710118\n",
      "Photo & Video  :  4.9658597144630665\n",
      "Education  :  3.662321539416512\n",
      "Social Networking  :  3.2898820608317814\n",
      "Shopping  :  2.60707635009311\n",
      "Utilities  :  2.5139664804469275\n",
      "Sports  :  2.1415270018621975\n",
      "Music  :  2.0484171322160147\n",
      "Health & Fitness  :  2.0173805090006205\n",
      "Productivity  :  1.7380509000620732\n",
      "Lifestyle  :  1.5828677839851024\n",
      "News  :  1.3345747982619491\n",
      "Travel  :  1.2414649286157666\n",
      "Finance  :  1.1173184357541899\n",
      "Weather  :  0.8690254500310366\n",
      "Food & Drink  :  0.8069522036002483\n",
      "Reference  :  0.5586592178770949\n",
      "Business  :  0.5276225946617008\n",
      "Book  :  0.4345127250155183\n",
      "Navigation  :  0.186219739292365\n",
      "Medical  :  0.186219739292365\n",
      "Catalogs  :  0.12414649286157665\n"
     ]
    }
   ],
   "source": [
    "display_table(ios_final, -5) #prime_genre"
   ]
  },
  {
   "cell_type": "markdown",
   "metadata": {},
   "source": [
    "By inspection, we identify that more than half of the the free English apps on App Store are games(**58.16%**). Entertainment apps are close to **8% (7.88%)**, followed by photo and video apps, which are close to **5%**. Apps designed for education comprise of only **3.66%** of the apps, and social networking apps amounted for only **3.29%** of the apps.\n",
    "\n",
    "The general impression is that apps designed for fun (games, entertainment, photo and video, social networking, sports, music, etc.) dominate the App Store, and apps with practical purposes (education, shopping, utilities, productivity, lifestyle, etc.) are not common. "
   ]
  },
  {
   "cell_type": "code",
   "execution_count": 16,
   "metadata": {},
   "outputs": [
    {
     "name": "stdout",
     "output_type": "stream",
     "text": [
      "FAMILY  :  18.934777702550214\n",
      "GAME  :  9.693071541412774\n",
      "TOOLS  :  8.451816745655607\n",
      "BUSINESS  :  4.5926427443015125\n",
      "LIFESTYLE  :  3.9043105393816293\n",
      "PRODUCTIVITY  :  3.8930264048747465\n",
      "FINANCE  :  3.7011961182577298\n",
      "MEDICAL  :  3.5206499661475967\n",
      "SPORTS  :  3.39652448657188\n",
      "PERSONALIZATION  :  3.3175355450236967\n",
      "COMMUNICATION  :  3.238546603475513\n",
      "HEALTH_AND_FITNESS  :  3.080568720379147\n",
      "PHOTOGRAPHY  :  2.945159106296547\n",
      "NEWS_AND_MAGAZINES  :  2.798465357707064\n",
      "SOCIAL  :  2.663055743624464\n",
      "TRAVEL_AND_LOCAL  :  2.335815842924848\n",
      "SHOPPING  :  2.2455427668697814\n",
      "BOOKS_AND_REFERENCE  :  2.143985556307831\n",
      "DATING  :  1.8618821936357481\n",
      "VIDEO_PLAYERS  :  1.7941773865944481\n",
      "MAPS_AND_NAVIGATION  :  1.399232678853532\n",
      "FOOD_AND_DRINK  :  1.2412547957571656\n",
      "EDUCATION  :  1.1735499887158656\n",
      "ENTERTAINMENT  :  0.9591514330850823\n",
      "LIBRARIES_AND_DEMO  :  0.9365831640713158\n",
      "AUTO_AND_VEHICLES  :  0.9252990295644324\n",
      "HOUSE_AND_HOME  :  0.8237418190024826\n",
      "WEATHER  :  0.8011735499887158\n",
      "EVENTS  :  0.7109004739336493\n",
      "PARENTING  :  0.6544798013992327\n",
      "ART_AND_DESIGN  :  0.6431956668923494\n",
      "COMICS  :  0.6206273978785828\n",
      "BEAUTY  :  0.598059128864816\n"
     ]
    }
   ],
   "source": [
    "display_table(android_final, 1) #Category"
   ]
  },
  {
   "cell_type": "markdown",
   "metadata": {},
   "source": [
    "The representations seem different on Google PLay. Apps designed for fun are significantly less than apps that are designed for practical purposes (family, tools, business, lifestyle, productivity, etc.)"
   ]
  },
  {
   "cell_type": "code",
   "execution_count": 17,
   "metadata": {
    "scrolled": false
   },
   "outputs": [
    {
     "name": "stdout",
     "output_type": "stream",
     "text": [
      "Tools  :  8.440532611148726\n",
      "Entertainment  :  6.070864364703228\n",
      "Education  :  5.348679756262695\n",
      "Business  :  4.5926427443015125\n",
      "Productivity  :  3.8930264048747465\n",
      "Lifestyle  :  3.8930264048747465\n",
      "Finance  :  3.7011961182577298\n",
      "Medical  :  3.5206499661475967\n",
      "Sports  :  3.4642292936131795\n",
      "Personalization  :  3.3175355450236967\n",
      "Communication  :  3.238546603475513\n",
      "Action  :  3.1031369893929135\n",
      "Health & Fitness  :  3.080568720379147\n",
      "Photography  :  2.945159106296547\n",
      "News & Magazines  :  2.798465357707064\n",
      "Social  :  2.663055743624464\n",
      "Travel & Local  :  2.324531708417964\n",
      "Shopping  :  2.2455427668697814\n",
      "Books & Reference  :  2.143985556307831\n",
      "Simulation  :  2.0424283457458814\n",
      "Dating  :  1.8618821936357481\n",
      "Arcade  :  1.8505980591288649\n",
      "Video Players & Editors  :  1.7716091175806816\n",
      "Casual  :  1.7490408485669149\n",
      "Maps & Navigation  :  1.399232678853532\n",
      "Food & Drink  :  1.2412547957571656\n",
      "Puzzle  :  1.128413450688332\n",
      "Racing  :  0.9930038366057323\n",
      "Role Playing  :  0.9365831640713158\n",
      "Libraries & Demo  :  0.9365831640713158\n",
      "Auto & Vehicles  :  0.9252990295644324\n",
      "Strategy  :  0.9140148950575491\n",
      "House & Home  :  0.8237418190024826\n",
      "Weather  :  0.8011735499887158\n",
      "Events  :  0.7109004739336493\n",
      "Adventure  :  0.6770480704129994\n",
      "Comics  :  0.6093432633716994\n",
      "Beauty  :  0.598059128864816\n",
      "Art & Design  :  0.598059128864816\n",
      "Parenting  :  0.49650191830286616\n",
      "Card  :  0.4400812457684496\n",
      "Casino  :  0.4287971112615662\n",
      "Trivia  :  0.41751297675468296\n",
      "Educational;Education  :  0.3949447077409162\n",
      "Educational  :  0.3723764387271496\n",
      "Board  :  0.3723764387271496\n",
      "Education;Education  :  0.3385240352064997\n",
      "Word  :  0.2595350936583164\n",
      "Casual;Pretend Play  :  0.23696682464454977\n",
      "Music  :  0.2031144211238998\n",
      "Puzzle;Brain Games  :  0.18054615211013314\n",
      "Racing;Action & Adventure  :  0.16926201760324985\n",
      "Entertainment;Music & Video  :  0.16926201760324985\n",
      "Casual;Brain Games  :  0.13540961408259986\n",
      "Casual;Action & Adventure  :  0.13540961408259986\n",
      "Arcade;Action & Adventure  :  0.12412547957571654\n",
      "Action;Action & Adventure  :  0.1015572105619499\n",
      "Educational;Pretend Play  :  0.09027307605506657\n",
      "Board;Brain Games  :  0.09027307605506657\n",
      "Simulation;Action & Adventure  :  0.07898894154818326\n",
      "Parenting;Education  :  0.07898894154818326\n",
      "Entertainment;Brain Games  :  0.07898894154818326\n",
      "Parenting;Music & Video  :  0.06770480704129993\n",
      "Educational;Brain Games  :  0.06770480704129993\n",
      "Casual;Creativity  :  0.06770480704129993\n",
      "Art & Design;Creativity  :  0.06770480704129993\n",
      "Education;Pretend Play  :  0.056420672534416606\n",
      "Role Playing;Pretend Play  :  0.045136538027533285\n",
      "Education;Creativity  :  0.045136538027533285\n",
      "Role Playing;Action & Adventure  :  0.033852403520649964\n",
      "Puzzle;Action & Adventure  :  0.033852403520649964\n",
      "Entertainment;Creativity  :  0.033852403520649964\n",
      "Entertainment;Action & Adventure  :  0.033852403520649964\n",
      "Educational;Creativity  :  0.033852403520649964\n",
      "Educational;Action & Adventure  :  0.033852403520649964\n",
      "Education;Music & Video  :  0.033852403520649964\n",
      "Education;Brain Games  :  0.033852403520649964\n",
      "Education;Action & Adventure  :  0.033852403520649964\n",
      "Adventure;Action & Adventure  :  0.033852403520649964\n",
      "Video Players & Editors;Music & Video  :  0.022568269013766643\n",
      "Sports;Action & Adventure  :  0.022568269013766643\n",
      "Simulation;Pretend Play  :  0.022568269013766643\n",
      "Puzzle;Creativity  :  0.022568269013766643\n",
      "Music;Music & Video  :  0.022568269013766643\n",
      "Entertainment;Pretend Play  :  0.022568269013766643\n",
      "Casual;Education  :  0.022568269013766643\n",
      "Board;Action & Adventure  :  0.022568269013766643\n",
      "Video Players & Editors;Creativity  :  0.011284134506883321\n",
      "Trivia;Education  :  0.011284134506883321\n",
      "Travel & Local;Action & Adventure  :  0.011284134506883321\n",
      "Tools;Education  :  0.011284134506883321\n",
      "Strategy;Education  :  0.011284134506883321\n",
      "Strategy;Creativity  :  0.011284134506883321\n",
      "Strategy;Action & Adventure  :  0.011284134506883321\n",
      "Simulation;Education  :  0.011284134506883321\n",
      "Role Playing;Brain Games  :  0.011284134506883321\n",
      "Racing;Pretend Play  :  0.011284134506883321\n",
      "Puzzle;Education  :  0.011284134506883321\n",
      "Parenting;Brain Games  :  0.011284134506883321\n",
      "Music & Audio;Music & Video  :  0.011284134506883321\n",
      "Lifestyle;Pretend Play  :  0.011284134506883321\n",
      "Lifestyle;Education  :  0.011284134506883321\n",
      "Health & Fitness;Education  :  0.011284134506883321\n",
      "Health & Fitness;Action & Adventure  :  0.011284134506883321\n",
      "Entertainment;Education  :  0.011284134506883321\n",
      "Communication;Creativity  :  0.011284134506883321\n",
      "Comics;Creativity  :  0.011284134506883321\n",
      "Casual;Music & Video  :  0.011284134506883321\n",
      "Card;Brain Games  :  0.011284134506883321\n",
      "Card;Action & Adventure  :  0.011284134506883321\n",
      "Books & Reference;Education  :  0.011284134506883321\n",
      "Art & Design;Pretend Play  :  0.011284134506883321\n",
      "Art & Design;Action & Adventure  :  0.011284134506883321\n",
      "Arcade;Pretend Play  :  0.011284134506883321\n",
      "Adventure;Education  :  0.011284134506883321\n"
     ]
    }
   ],
   "source": [
    "display_table(android_final, -4) #Genres"
   ]
  },
  {
   "cell_type": "markdown",
   "metadata": {},
   "source": [
    "The Genres column also confirms that practical apps seem to have a better representation on Google Play. Though the difference between the Genres and the Category columns is not clear, we can notice that the Genres column has more categories. We're only looking for the bigger picture at the moment, so we'll only work with the Category column for now."
   ]
  },
  {
   "cell_type": "markdown",
   "metadata": {},
   "source": [
    "## Most Popular Apps by Genre on the App Store\n",
    "\n",
    "One way to find out what genres are the most popular (have the most users) is to calculate the average number of installs for each app genre. On the App Store, there is no specific column that has a number of installs so we'll take the total number of user ratings as a proxy, which we can find in the *rating_count_tot* app."
   ]
  },
  {
   "cell_type": "code",
   "execution_count": 18,
   "metadata": {
    "scrolled": false
   },
   "outputs": [
    {
     "name": "stdout",
     "output_type": "stream",
     "text": [
      "Social Networking  :  71548.34905660378\n",
      "Photo & Video  :  28441.54375\n",
      "Games  :  22788.6696905016\n",
      "Music  :  57326.530303030304\n",
      "Reference  :  74942.11111111111\n",
      "Health & Fitness  :  23298.015384615384\n",
      "Weather  :  52279.892857142855\n",
      "Utilities  :  18684.456790123455\n",
      "Travel  :  28243.8\n",
      "Shopping  :  26919.690476190477\n",
      "News  :  21248.023255813954\n",
      "Navigation  :  86090.33333333333\n",
      "Lifestyle  :  16485.764705882353\n",
      "Entertainment  :  14029.830708661417\n",
      "Food & Drink  :  33333.92307692308\n",
      "Sports  :  23008.898550724636\n",
      "Book  :  39758.5\n",
      "Finance  :  31467.944444444445\n",
      "Education  :  7003.983050847458\n",
      "Productivity  :  21028.410714285714\n",
      "Business  :  7491.117647058823\n",
      "Catalogs  :  4004.0\n",
      "Medical  :  612.0\n"
     ]
    }
   ],
   "source": [
    "genres_ios = freq_table(ios_final, -5)\n",
    "\n",
    "for genre in genres_ios:\n",
    "    total = 0\n",
    "    number_of_genre_apps = 0\n",
    "    for app in ios_final:\n",
    "        genre_app = app[-5]\n",
    "        if genre_app == genre:\n",
    "            n_ratings = float(app[5])\n",
    "            total += n_ratings\n",
    "            number_of_genre_apps += 1\n",
    "    \n",
    "    avg_n_ratings = total / number_of_genre_apps\n",
    "    print(genre, \" : \", avg_n_ratings)"
   ]
  },
  {
   "cell_type": "markdown",
   "metadata": {},
   "source": [
    "On average, **navigation** apps have the highest number of user reviews, but this figure is heavily influenced by Waze and Google Maps, which have close to half a million user reviews together:"
   ]
  },
  {
   "cell_type": "code",
   "execution_count": 19,
   "metadata": {},
   "outputs": [
    {
     "name": "stdout",
     "output_type": "stream",
     "text": [
      "Waze - GPS Navigation, Maps & Real-time Traffic : 345046\n",
      "Google Maps - Navigation & Transit : 154911\n",
      "Geocaching® : 12811\n",
      "CoPilot GPS – Car Navigation & Offline Maps : 3582\n",
      "ImmobilienScout24: Real Estate Search in Germany : 187\n",
      "Railway Route Search : 5\n"
     ]
    }
   ],
   "source": [
    "for app in ios_final:\n",
    "    if app[-5] == 'Navigation':\n",
    "        print(app[1], ':', app[5]) # print name and number of ratings"
   ]
  },
  {
   "cell_type": "markdown",
   "metadata": {},
   "source": [
    "The same pattern applies to social networking apps, where the average number is heavily influenced by a few giants like Facebook, Pinterest, Skype, etc. Same applies to music apps, where a few big players like Pandora, Spotify, and Shazam heavily influence the average number.\n",
    "\n",
    "These few apps which have hundreds of thousands of user ratings seem to skew the average number of ratings. It is therefore recommended to remove these apps in order to get a better picture of the averages.\n",
    "\n",
    "Taking another look, we observe that reference apps have 74,942 user ratings on average, but this rating is skewed by the Bible and DIctionary.com"
   ]
  },
  {
   "cell_type": "code",
   "execution_count": 20,
   "metadata": {},
   "outputs": [
    {
     "name": "stdout",
     "output_type": "stream",
     "text": [
      "Bible : 985920\n",
      "Dictionary.com Dictionary & Thesaurus : 200047\n",
      "Dictionary.com Dictionary & Thesaurus for iPad : 54175\n",
      "Google Translate : 26786\n",
      "Muslim Pro: Ramadan 2017 Prayer Times, Azan, Quran : 18418\n",
      "New Furniture Mods - Pocket Wiki & Game Tools for Minecraft PC Edition : 17588\n",
      "Merriam-Webster Dictionary : 16849\n",
      "Night Sky : 12122\n",
      "City Maps for Minecraft PE - The Best Maps for Minecraft Pocket Edition (MCPE) : 8535\n",
      "LUCKY BLOCK MOD ™ for Minecraft PC Edition - The Best Pocket Wiki & Mods Installer Tools : 4693\n",
      "GUNS MODS for Minecraft PC Edition - Mods Tools : 1497\n",
      "Guides for Pokémon GO - Pokemon GO News and Cheats : 826\n",
      "WWDC : 762\n",
      "Horror Maps for Minecraft PE - Download The Scariest Maps for Minecraft Pocket Edition (MCPE) Free : 718\n",
      "VPN Express : 14\n",
      "Real Bike Traffic Rider Virtual Reality Glasses : 8\n",
      "教えて!goo : 0\n",
      "Jishokun-Japanese English Dictionary & Translator : 0\n"
     ]
    }
   ],
   "source": [
    "for app in ios_final:\n",
    "    if app[-5] == 'Reference':\n",
    "        print(app[1], ':', app[5])"
   ]
  },
  {
   "cell_type": "markdown",
   "metadata": {},
   "source": [
    "There seems to be a possibility of creating a niche out of this. We can take another popular book and create an app out of it and add attracting features such as quotes from the book, an audio version etc. Additionaly, we can integrate a dictionary within the app to prevent users from exiting our app for an external app.\n",
    "\n",
    "This idea seems to be plausible due to the fact that the App Store is dominated by for-fun apps. Our app might have a more chance to stand out among the huge numbers of for-fun apps saturating the market.\n",
    "\n",
    "Other genres that seem popular like weather, book, food and drink,or finance would not be our focus since people generally don't spend too much time on weather app, making the chances of making profit very low. Food and drink app requires actual cooking and a delivery service, which is outside the scope of our company. Finance too is outside our scope."
   ]
  },
  {
   "cell_type": "markdown",
   "metadata": {},
   "source": [
    "# Most Popular Apps by Genres on Google Play\n",
    "\n",
    "Google Play data set comprise of column that gives us a number of installs of every app. However, we are short of a precise number since the data points in that column are open-ended values (100+, 1,000+, 5,000+, etc.)"
   ]
  },
  {
   "cell_type": "code",
   "execution_count": 21,
   "metadata": {},
   "outputs": [
    {
     "name": "stdout",
     "output_type": "stream",
     "text": [
      "1,000,000+  :  15.741367637102236\n",
      "100,000+  :  11.554953735048521\n",
      "10,000,000+  :  10.516813360415256\n",
      "10,000+  :  10.200857594222523\n",
      "1,000+  :  8.395396073121193\n",
      "100+  :  6.917174452719477\n",
      "5,000,000+  :  6.838185511171294\n",
      "500,000+  :  5.574362446400361\n",
      "50,000+  :  4.773188896411646\n",
      "5,000+  :  4.513653802753328\n",
      "10+  :  3.5432182351613632\n",
      "500+  :  3.2498307379823967\n",
      "50,000,000+  :  2.2906793048973144\n",
      "100,000,000+  :  2.1214172872940646\n",
      "50+  :  1.9183028661701647\n",
      "5+  :  0.7898894154818324\n",
      "1+  :  0.5077860528097494\n",
      "500,000,000+  :  0.2708192281651997\n",
      "1,000,000,000+  :  0.22568269013766643\n",
      "0+  :  0.045136538027533285\n",
      "0  :  0.011284134506883321\n"
     ]
    }
   ],
   "source": [
    "display_table(android_final, 5) # the Installs columns"
   ]
  },
  {
   "cell_type": "markdown",
   "metadata": {},
   "source": [
    "So we will get rid of the commas and plus, convert the install numbers (which is a string) to float and compute the average number of installs for each genre (category)."
   ]
  },
  {
   "cell_type": "code",
   "execution_count": 22,
   "metadata": {},
   "outputs": [
    {
     "name": "stdout",
     "output_type": "stream",
     "text": [
      "COMMUNICATION  :  38456119.167247385\n",
      "VIDEO_PLAYERS  :  24727872.452830188\n",
      "SOCIAL  :  23253652.127118643\n",
      "PHOTOGRAPHY  :  17805627.643678162\n",
      "PRODUCTIVITY  :  16787331.344927534\n",
      "GAME  :  15560965.599534342\n",
      "TRAVEL_AND_LOCAL  :  13984077.710144928\n",
      "ENTERTAINMENT  :  11640705.88235294\n",
      "TOOLS  :  10682301.033377837\n",
      "NEWS_AND_MAGAZINES  :  9549178.467741935\n",
      "BOOKS_AND_REFERENCE  :  8767811.894736841\n",
      "SHOPPING  :  7036877.311557789\n",
      "PERSONALIZATION  :  5201482.6122448975\n",
      "WEATHER  :  5074486.197183099\n",
      "HEALTH_AND_FITNESS  :  4188821.9853479853\n",
      "MAPS_AND_NAVIGATION  :  4056941.7741935486\n",
      "FAMILY  :  3694276.334922527\n",
      "SPORTS  :  3638640.1428571427\n",
      "ART_AND_DESIGN  :  1986335.0877192982\n",
      "FOOD_AND_DRINK  :  1924897.7363636363\n",
      "EDUCATION  :  1820673.076923077\n",
      "BUSINESS  :  1712290.1474201474\n",
      "LIFESTYLE  :  1437816.2687861272\n",
      "FINANCE  :  1387692.475609756\n",
      "HOUSE_AND_HOME  :  1331540.5616438356\n",
      "DATING  :  854028.8303030303\n",
      "COMICS  :  817657.2727272727\n",
      "AUTO_AND_VEHICLES  :  647317.8170731707\n",
      "LIBRARIES_AND_DEMO  :  638503.734939759\n",
      "PARENTING  :  542603.6206896552\n",
      "BEAUTY  :  513151.88679245283\n",
      "EVENTS  :  253542.22222222222\n",
      "MEDICAL  :  120616.48717948717\n"
     ]
    }
   ],
   "source": [
    "category_android = freq_table(android_final, 1)\n",
    "table_category = {}\n",
    "table_category_list = []\n",
    "\n",
    "for category in category_android:\n",
    "    total_installs = 0\n",
    "    total_num_of_apps = 0\n",
    "    for app in android_final:\n",
    "        if app[1] == category:\n",
    "            n_installs = app[5]\n",
    "            n_installs = n_installs.replace(',', '')\n",
    "            n_installs = n_installs.replace('+', '')\n",
    "            total_installs += float(n_installs)\n",
    "            total_num_of_apps += 1        \n",
    "    avg_num = total_installs / total_num_of_apps\n",
    "    table_category[category] = avg_num\n",
    "\n",
    "for key in table_category:\n",
    "    key_as_a_tuple = (table_category[key], key)\n",
    "    table_category_list.append(key_as_a_tuple)\n",
    "        \n",
    "table_sorted = sorted(table_category_list, reverse=True)\n",
    "for entry in table_sorted:\n",
    "    print(entry[1], \" : \", entry[0])"
   ]
  },
  {
   "cell_type": "markdown",
   "metadata": {},
   "source": [
    "After sorting the average installs for each genre, it was found that communication apps have the most installs (38,456,119), and is largely skewed up by a few extremely popular apps such as WhatsApp, Facebook Messenger, Skype, Google Chrome, Gmail, and Hangouts."
   ]
  },
  {
   "cell_type": "code",
   "execution_count": 23,
   "metadata": {},
   "outputs": [
    {
     "name": "stdout",
     "output_type": "stream",
     "text": [
      "WhatsApp Messenger : 1,000,000,000+\n",
      "imo beta free calls and text : 100,000,000+\n",
      "Android Messages : 100,000,000+\n",
      "Google Duo - High Quality Video Calls : 500,000,000+\n",
      "Messenger – Text and Video Chat for Free : 1,000,000,000+\n",
      "imo free video calls and chat : 500,000,000+\n",
      "Skype - free IM & video calls : 1,000,000,000+\n",
      "Who : 100,000,000+\n",
      "GO SMS Pro - Messenger, Free Themes, Emoji : 100,000,000+\n",
      "LINE: Free Calls & Messages : 500,000,000+\n",
      "Google Chrome: Fast & Secure : 1,000,000,000+\n",
      "Firefox Browser fast & private : 100,000,000+\n",
      "UC Browser - Fast Download Private & Secure : 500,000,000+\n",
      "Gmail : 1,000,000,000+\n",
      "Hangouts : 1,000,000,000+\n",
      "Messenger Lite: Free Calls & Messages : 100,000,000+\n",
      "Kik : 100,000,000+\n",
      "KakaoTalk: Free Calls & Text : 100,000,000+\n",
      "Opera Mini - fast web browser : 100,000,000+\n",
      "Opera Browser: Fast and Secure : 100,000,000+\n",
      "Telegram : 100,000,000+\n",
      "Truecaller: Caller ID, SMS spam blocking & Dialer : 100,000,000+\n",
      "UC Browser Mini -Tiny Fast Private & Secure : 100,000,000+\n",
      "Viber Messenger : 500,000,000+\n",
      "WeChat : 100,000,000+\n",
      "Yahoo Mail – Stay Organized : 100,000,000+\n",
      "BBM - Free Calls & Messages : 100,000,000+\n"
     ]
    }
   ],
   "source": [
    "for app in android_final:\n",
    "    if app[1] == 'COMMUNICATION' and (app[5] == '1,000,000,000+'\n",
    "                                      or app[5] == '500,000,000+'\n",
    "                                      or app[5] == '100,000,000+'):\n",
    "        print(app[0], ':', app[5])"
   ]
  },
  {
   "cell_type": "code",
   "execution_count": 24,
   "metadata": {},
   "outputs": [
    {
     "data": {
      "text/plain": [
       "3603485.3884615386"
      ]
     },
     "execution_count": 24,
     "metadata": {},
     "output_type": "execute_result"
    }
   ],
   "source": [
    "# Now, let's remove communication apps that have over 100 million installs\n",
    "under_100_m = []\n",
    "for app in android_final:\n",
    "    n_installs = app[5]\n",
    "    n_installs = n_installs.replace(',', '')\n",
    "    n_installs = n_installs.replace('+', '')\n",
    "    if (app[1] == 'COMMUNICATION') and (float(n_installs) < 100000000):\n",
    "        under_100_m.append(float(n_installs))\n",
    "        \n",
    "sum(under_100_m) / len(under_100_m)"
   ]
  },
  {
   "cell_type": "markdown",
   "metadata": {},
   "source": [
    "In addition to communication apps, video player apps, social apps, photography apps, and productivity apps exhibit the same pattern. Moreover, these niches seem to be dominated by a few giants who are hard to compete against. Games genre seem pretty popular but a bit saturated.\n",
    "\n",
    "The next niches we could consider are 'news and magazine' and 'book and reference' genres which looks fairly popular as well, with an avergae number of installs of 9,549,178 and 8,767,811 respectively. Since we have already found that the Book and Reference genre shows a plausibility of working well on the App Store, and our aim to recommend an app that shows potential to generate profit on both the App Store and Google Play, we will consider that genre next."
   ]
  },
  {
   "cell_type": "code",
   "execution_count": 25,
   "metadata": {},
   "outputs": [
    {
     "name": "stdout",
     "output_type": "stream",
     "text": [
      "E-Book Read - Read Book for free  :  50,000+\n",
      "Download free book with green book  :  100,000+\n",
      "Wikipedia  :  10,000,000+\n",
      "Cool Reader  :  10,000,000+\n",
      "Free Panda Radio Music  :  100,000+\n",
      "Book store  :  1,000,000+\n",
      "FBReader: Favorite Book Reader  :  10,000,000+\n",
      "English Grammar Complete Handbook  :  500,000+\n",
      "Free Books - Spirit Fanfiction and Stories  :  1,000,000+\n",
      "Google Play Books  :  1,000,000,000+\n",
      "AlReader -any text book reader  :  5,000,000+\n",
      "Offline English Dictionary  :  100,000+\n",
      "Offline: English to Tagalog Dictionary  :  500,000+\n",
      "FamilySearch Tree  :  1,000,000+\n",
      "Cloud of Books  :  1,000,000+\n",
      "Recipes of Prophetic Medicine for free  :  500,000+\n",
      "ReadEra – free ebook reader  :  1,000,000+\n",
      "Anonymous caller detection  :  10,000+\n",
      "Ebook Reader  :  5,000,000+\n",
      "Litnet - E-books  :  100,000+\n",
      "Read books online  :  5,000,000+\n",
      "English to Urdu Dictionary  :  500,000+\n",
      "eBoox: book reader fb2 epub zip  :  1,000,000+\n",
      "English Persian Dictionary  :  500,000+\n",
      "Flybook  :  500,000+\n",
      "All Maths Formulas  :  1,000,000+\n",
      "Ancestry  :  5,000,000+\n",
      "HTC Help  :  10,000,000+\n",
      "English translation from Bengali  :  100,000+\n",
      "Pdf Book Download - Read Pdf Book  :  100,000+\n",
      "Free Book Reader  :  100,000+\n",
      "eBoox new: Reader for fb2 epub zip books  :  50,000+\n",
      "Only 30 days in English, the guideline is guaranteed  :  500,000+\n",
      "Moon+ Reader  :  10,000,000+\n",
      "SH-02J Owner's Manual (Android 8.0)  :  50,000+\n",
      "English-Myanmar Dictionary  :  1,000,000+\n",
      "Golden Dictionary (EN-AR)  :  1,000,000+\n",
      "All Language Translator Free  :  1,000,000+\n",
      "Azpen eReader  :  500,000+\n",
      "URBANO V 02 instruction manual  :  100,000+\n",
      "Bible  :  100,000,000+\n",
      "C Programs and Reference  :  50,000+\n",
      "C Offline Tutorial  :  1,000+\n",
      "C Programs Handbook  :  50,000+\n",
      "Amazon Kindle  :  100,000,000+\n",
      "Aab e Hayat Full Novel  :  100,000+\n",
      "Aldiko Book Reader  :  10,000,000+\n",
      "Google I/O 2018  :  500,000+\n",
      "R Language Reference Guide  :  10,000+\n",
      "Learn R Programming Full  :  5,000+\n",
      "R Programing Offline Tutorial  :  1,000+\n",
      "Guide for R Programming  :  5+\n",
      "Learn R Programming  :  10+\n",
      "R Quick Reference Big Data  :  1,000+\n",
      "V Made  :  100,000+\n",
      "Wattpad 📖 Free Books  :  100,000,000+\n",
      "Dictionary - WordWeb  :  5,000,000+\n",
      "Guide (for X-MEN)  :  100,000+\n",
      "AC Air condition Troubleshoot,Repair,Maintenance  :  5,000+\n",
      "AE Bulletins  :  1,000+\n",
      "Ae Allah na Dai (Rasa)  :  10,000+\n",
      "50000 Free eBooks & Free AudioBooks  :  5,000,000+\n",
      "Ag PhD Field Guide  :  10,000+\n",
      "Ag PhD Deficiencies  :  10,000+\n",
      "Ag PhD Planting Population Calculator  :  1,000+\n",
      "Ag PhD Soybean Diseases  :  1,000+\n",
      "Fertilizer Removal By Crop  :  50,000+\n",
      "A-J Media Vault  :  50+\n",
      "Al-Quran (Free)  :  10,000,000+\n",
      "Al Quran (Tafsir & by Word)  :  500,000+\n",
      "Al Quran Indonesia  :  10,000,000+\n",
      "Al'Quran Bahasa Indonesia  :  10,000,000+\n",
      "Al Quran Al karim  :  1,000,000+\n",
      "Al-Muhaffiz  :  50,000+\n",
      "Al Quran : EAlim - Translations & MP3 Offline  :  5,000,000+\n",
      "Al-Quran 30 Juz free copies  :  500,000+\n",
      "Koran Read &MP3 30 Juz Offline  :  1,000,000+\n",
      "Hafizi Quran 15 lines per page  :  1,000,000+\n",
      "Quran for Android  :  10,000,000+\n",
      "Surah Al-Waqiah  :  100,000+\n",
      "Hisnul Al Muslim - Hisn Invocations & Adhkaar  :  100,000+\n",
      "Satellite AR  :  1,000,000+\n",
      "Audiobooks from Audible  :  100,000,000+\n",
      "Kinot & Eichah for Tisha B'Av  :  10,000+\n",
      "AW Tozer Devotionals - Daily  :  5,000+\n",
      "Tozer Devotional -Series 1  :  1,000+\n",
      "The Pursuit of God  :  1,000+\n",
      "AY Sing  :  5,000+\n",
      "Ay Hasnain k Nana Milad Naat  :  10,000+\n",
      "Ay Mohabbat Teri Khatir Novel  :  10,000+\n",
      "Arizona Statutes, ARS (AZ Law)  :  1,000+\n",
      "Oxford A-Z of English Usage  :  1,000,000+\n",
      "BD Fishpedia  :  1,000+\n",
      "BD All Sim Offer  :  10,000+\n",
      "Youboox - Livres, BD et magazines  :  500,000+\n",
      "B&H Kids AR  :  10,000+\n",
      "B y H Niños ES  :  5,000+\n",
      "Dictionary.com: Find Definitions for English Words  :  10,000,000+\n",
      "English Dictionary - Offline  :  10,000,000+\n",
      "Bible KJV  :  5,000,000+\n",
      "Borneo Bible, BM Bible  :  10,000+\n",
      "MOD Black for BM  :  100+\n",
      "BM Box  :  1,000+\n",
      "Anime Mod for BM  :  100+\n",
      "NOOK: Read eBooks & Magazines  :  10,000,000+\n",
      "NOOK Audiobooks  :  500,000+\n",
      "NOOK App for NOOK Devices  :  500,000+\n",
      "Browsery by Barnes & Noble  :  5,000+\n",
      "bp e-store  :  1,000+\n",
      "Brilliant Quotes: Life, Love, Family & Motivation  :  1,000,000+\n",
      "BR Ambedkar Biography & Quotes  :  10,000+\n",
      "BU Alsace  :  100+\n",
      "Catholic La Bu Zo Kam  :  500+\n",
      "Khrifa Hla Bu (Solfa)  :  10+\n",
      "Kristian Hla Bu  :  10,000+\n",
      "SA HLA BU  :  1,000+\n",
      "Learn SAP BW  :  500+\n",
      "Learn SAP BW on HANA  :  500+\n",
      "CA Laws 2018 (California Laws and Codes)  :  5,000+\n",
      "Bootable Methods(USB-CD-DVD)  :  10,000+\n",
      "cloudLibrary  :  100,000+\n",
      "SDA Collegiate Quarterly  :  500+\n",
      "Sabbath School  :  100,000+\n",
      "Cypress College Library  :  100+\n",
      "Stats Royale for Clash Royale  :  1,000,000+\n",
      "GATE 21 years CS Papers(2011-2018 Solved)  :  50+\n",
      "Learn CT Scan Of Head  :  5,000+\n",
      "Easy Cv maker 2018  :  10,000+\n",
      "How to Write CV  :  100,000+\n",
      "CW Nuclear  :  1,000+\n",
      "CY Spray nozzle  :  10+\n",
      "BibleRead En Cy Zh Yue  :  5+\n",
      "CZ-Help  :  5+\n",
      "Modlitební knížka CZ  :  500+\n",
      "Guide for DB Xenoverse  :  10,000+\n",
      "Guide for DB Xenoverse 2  :  10,000+\n",
      "Guide for IMS DB  :  10+\n",
      "DC HSEMA  :  5,000+\n",
      "DC Public Library  :  1,000+\n",
      "Painting Lulu DC Super Friends  :  1,000+\n",
      "Dictionary  :  10,000,000+\n",
      "Fix Error Google Playstore  :  1,000+\n",
      "D. H. Lawrence Poems FREE  :  1,000+\n",
      "Bilingual Dictionary Audio App  :  5,000+\n",
      "DM Screen  :  10,000+\n",
      "wikiHow: how to do anything  :  1,000,000+\n",
      "Dr. Doug's Tips  :  1,000+\n",
      "Bible du Semeur-BDS (French)  :  50,000+\n",
      "La citadelle du musulman  :  50,000+\n",
      "DV 2019 Entry Guide  :  10,000+\n",
      "DV 2019 - EDV Photo & Form  :  50,000+\n",
      "DV 2018 Winners Guide  :  1,000+\n",
      "EB Annual Meetings  :  1,000+\n",
      "EC - AP & Telangana  :  5,000+\n",
      "TN Patta Citta & EC  :  10,000+\n",
      "AP Stamps and Registration  :  10,000+\n",
      "CompactiMa EC pH Calibration  :  100+\n",
      "EGW Writings 2  :  100,000+\n",
      "EGW Writings  :  1,000,000+\n",
      "Bible with EGW Comments  :  100,000+\n",
      "My Little Pony AR Guide  :  1,000,000+\n",
      "SDA Sabbath School Quarterly  :  500,000+\n",
      "Duaa Ek Ibaadat  :  5,000+\n",
      "Spanish English Translator  :  10,000,000+\n",
      "Dictionary - Merriam-Webster  :  10,000,000+\n",
      "JW Library  :  10,000,000+\n",
      "Oxford Dictionary of English : Free  :  10,000,000+\n",
      "English Hindi Dictionary  :  10,000,000+\n",
      "English to Hindi Dictionary  :  5,000,000+\n",
      "EP Research Service  :  1,000+\n",
      "Hymnes et Louanges  :  100,000+\n",
      "EU Charter  :  1,000+\n",
      "EU Data Protection  :  1,000+\n",
      "EU IP Codes  :  100+\n",
      "EW PDF  :  5+\n",
      "BakaReader EX  :  100,000+\n",
      "EZ Quran  :  50,000+\n",
      "FA Part 1 & 2 Past Papers Solved Free – Offline  :  5,000+\n",
      "La Fe de Jesus  :  1,000+\n",
      "La Fe de Jesús  :  500+\n",
      "Le Fe de Jesus  :  500+\n",
      "Florida - Pocket Brainbook  :  1,000+\n",
      "Florida Statutes (FL Code)  :  1,000+\n",
      "English To Shona Dictionary  :  10,000+\n",
      "Greek Bible FP (Audio)  :  1,000+\n",
      "Golden Dictionary (FR-AR)  :  500,000+\n",
      "Fanfic-FR  :  5,000+\n",
      "Bulgarian French Dictionary Fr  :  10,000+\n",
      "Chemin (fr)  :  1,000+\n",
      "The SCP Foundation DB fr nn5n  :  1,000+\n"
     ]
    }
   ],
   "source": [
    "for app in android_final:\n",
    "    if app[1] == 'BOOKS_AND_REFERENCE':\n",
    "        print(app[0], ' : ', app[5])"
   ]
  },
  {
   "cell_type": "markdown",
   "metadata": {},
   "source": [
    "We have a variety of Google Play apps in this genre: dictionaries, reading ebooks, collection of libraries etc. Inspection of this result show that there are still a small number of popular apps that skew the average."
   ]
  },
  {
   "cell_type": "code",
   "execution_count": 26,
   "metadata": {},
   "outputs": [
    {
     "name": "stdout",
     "output_type": "stream",
     "text": [
      "Google Play Books : 1,000,000,000+\n",
      "Bible : 100,000,000+\n",
      "Amazon Kindle : 100,000,000+\n",
      "Wattpad 📖 Free Books : 100,000,000+\n",
      "Audiobooks from Audible : 100,000,000+\n"
     ]
    }
   ],
   "source": [
    "for app in android_final:\n",
    "    if app[1] == 'BOOKS_AND_REFERENCE' and (app[5] == '1,000,000,000+'\n",
    "                                            or app[5] == '500,000,000+'\n",
    "                                            or app[5] == '100,000,000+'):\n",
    "        print(app[0], ':', app[5])"
   ]
  },
  {
   "cell_type": "markdown",
   "metadata": {},
   "source": [
    "But considering the result above, we have only a few very popular apps, so this market still shows potential"
   ]
  },
  {
   "cell_type": "markdown",
   "metadata": {},
   "source": [
    "### Now let's consider the Genre column of the Google Play data set"
   ]
  },
  {
   "cell_type": "code",
   "execution_count": 27,
   "metadata": {
    "scrolled": true
   },
   "outputs": [
    {
     "name": "stdout",
     "output_type": "stream",
     "text": [
      "Communication  :  38456119.167247385\n",
      "Adventure;Action & Adventure  :  35333333.333333336\n",
      "Video Players & Editors  :  24947335.796178345\n",
      "Social  :  23253652.127118643\n",
      "Arcade  :  22888365.48780488\n",
      "Casual  :  19630958.51612903\n",
      "Puzzle;Action & Adventure  :  18366666.666666668\n",
      "Photography  :  17805627.643678162\n",
      "Educational;Action & Adventure  :  17016666.666666668\n",
      "Productivity  :  16787331.344927534\n",
      "Racing  :  15910645.681818182\n",
      "Travel & Local  :  14051476.145631067\n",
      "Casual;Action & Adventure  :  12916666.666666666\n",
      "Action  :  12603588.872727273\n",
      "Strategy  :  11199902.530864198\n",
      "Tools  :  10683213.20053476\n",
      "Tools;Education  :  10000000.0\n",
      "Role Playing;Brain Games  :  10000000.0\n",
      "Lifestyle;Pretend Play  :  10000000.0\n",
      "Casual;Music & Video  :  10000000.0\n",
      "Card;Action & Adventure  :  10000000.0\n",
      "Adventure;Education  :  10000000.0\n",
      "News & Magazines  :  9549178.467741935\n",
      "Music  :  9445583.333333334\n",
      "Educational;Pretend Play  :  9375000.0\n",
      "Word  :  9094458.695652174\n",
      "Puzzle;Brain Games  :  9013125.0\n",
      "Racing;Action & Adventure  :  8816666.666666666\n",
      "Books & Reference  :  8767811.894736841\n",
      "Puzzle  :  8302861.91\n",
      "Video Players & Editors;Music & Video  :  7500000.0\n",
      "Shopping  :  7036877.311557789\n",
      "Role Playing;Action & Adventure  :  7000000.0\n",
      "Casual;Pretend Play  :  6957142.857142857\n",
      "Entertainment;Music & Video  :  6413333.333333333\n",
      "Action;Action & Adventure  :  5888888.888888889\n",
      "Entertainment  :  5602792.775092937\n",
      "Education;Brain Games  :  5333333.333333333\n",
      "Casual;Creativity  :  5333333.333333333\n",
      "Role Playing;Pretend Play  :  5275000.0\n",
      "Personalization  :  5201482.6122448975\n",
      "Weather  :  5074486.197183099\n",
      "Sports;Action & Adventure  :  5050000.0\n",
      "Music;Music & Video  :  5050000.0\n",
      "Video Players & Editors;Creativity  :  5000000.0\n",
      "Adventure  :  4922785.333333333\n",
      "Simulation;Action & Adventure  :  4857142.857142857\n",
      "Education;Education  :  4759517.0\n",
      "Sports  :  4596842.615635179\n",
      "Educational;Brain Games  :  4433333.333333333\n",
      "Health & Fitness  :  4188821.9853479853\n",
      "Maps & Navigation  :  4056941.7741935486\n",
      "Entertainment;Creativity  :  4000000.0\n",
      "Role Playing  :  3965645.421686747\n",
      "Card  :  3656884.6153846155\n",
      "Trivia  :  3475712.7027027025\n",
      "Simulation  :  3475484.08839779\n",
      "Casino  :  3427910.5263157897\n",
      "Board  :  3388276.0606060605\n",
      "Entertainment;Brain Games  :  3314285.714285714\n",
      "Arcade;Action & Adventure  :  3190909.1818181816\n",
      "Entertainment;Pretend Play  :  3000000.0\n",
      "Board;Action & Adventure  :  3000000.0\n",
      "Education;Creativity  :  2875000.0\n",
      "Entertainment;Action & Adventure  :  2333333.3333333335\n",
      "Educational;Creativity  :  2333333.3333333335\n",
      "Art & Design  :  2122850.9433962265\n",
      "Education;Music & Video  :  2033333.3333333333\n",
      "Food & Drink  :  1924897.7363636363\n",
      "Education;Pretend Play  :  1800000.0\n",
      "Educational;Education  :  1737143.142857143\n",
      "Business  :  1712290.1474201474\n",
      "Casual;Brain Games  :  1425916.6666666667\n",
      "Lifestyle  :  1412998.3449275363\n",
      "Finance  :  1387692.475609756\n",
      "House & Home  :  1331540.5616438356\n",
      "Parenting;Music & Video  :  1118333.3333333333\n",
      "Strategy;Creativity  :  1000000.0\n",
      "Strategy;Action & Adventure  :  1000000.0\n",
      "Racing;Pretend Play  :  1000000.0\n",
      "Parenting;Brain Games  :  1000000.0\n",
      "Health & Fitness;Action & Adventure  :  1000000.0\n",
      "Entertainment;Education  :  1000000.0\n",
      "Education;Action & Adventure  :  1000000.0\n",
      "Casual;Education  :  1000000.0\n",
      "Arcade;Pretend Play  :  1000000.0\n",
      "Board;Brain Games  :  981250.0\n",
      "Dating  :  854028.8303030303\n",
      "Comics  :  831873.1481481482\n",
      "Puzzle;Creativity  :  750000.0\n",
      "Auto & Vehicles  :  647317.8170731707\n",
      "Libraries & Demo  :  638503.734939759\n",
      "Simulation;Pretend Play  :  550000.0\n",
      "Education  :  540691.7721518987\n",
      "Beauty  :  513151.88679245283\n",
      "Strategy;Education  :  500000.0\n",
      "Music & Audio;Music & Video  :  500000.0\n",
      "Communication;Creativity  :  500000.0\n",
      "Art & Design;Pretend Play  :  500000.0\n",
      "Parenting  :  467977.5\n",
      "Parenting;Education  :  452857.14285714284\n",
      "Educational  :  411184.8484848485\n",
      "Art & Design;Creativity  :  285000.0\n",
      "Events  :  253542.22222222222\n",
      "Medical  :  120616.48717948717\n",
      "Travel & Local;Action & Adventure  :  100000.0\n",
      "Puzzle;Education  :  100000.0\n",
      "Lifestyle;Education  :  100000.0\n",
      "Health & Fitness;Education  :  100000.0\n",
      "Card;Brain Games  :  100000.0\n",
      "Art & Design;Action & Adventure  :  100000.0\n",
      "Comics;Creativity  :  50000.0\n",
      "Books & Reference;Education  :  1000.0\n",
      "Simulation;Education  :  500.0\n",
      "Trivia;Education  :  100.0\n"
     ]
    }
   ],
   "source": [
    "genre_android = freq_table(android_final, -4)\n",
    "table_genre = {}\n",
    "table_genre_list = []\n",
    "\n",
    "for genre in genre_android:\n",
    "    total_installs = 0\n",
    "    total_num_of_apps = 0\n",
    "    for app in android_final:\n",
    "        if app[9] == genre:\n",
    "            n_installs = app[5]\n",
    "            n_installs = n_installs.replace(',', '')\n",
    "            n_installs = n_installs.replace('+', '')\n",
    "            total_installs += float(n_installs)\n",
    "            total_num_of_apps += 1        \n",
    "    avg_num = total_installs / total_num_of_apps\n",
    "    table_genre[genre] = avg_num\n",
    "\n",
    "for key in table_genre:\n",
    "    key_as_a_tuple = (table_genre[key], key)\n",
    "    table_genre_list.append(key_as_a_tuple)\n",
    "        \n",
    "table_sorted = sorted(table_genre_list, reverse=True)\n",
    "for entry in table_sorted:\n",
    "    print(entry[1], \" : \", entry[0])"
   ]
  },
  {
   "cell_type": "markdown",
   "metadata": {},
   "source": [
    "Using the Genre column of the Google Play data set, we still find communication, video player, and social apps having extremely higher number of installs. Books and Reference, which is currently our recommendation, still has a fairly number of installs (8,767,811). It seems to be useful to add features similar to those from puzzle and brain games to our book app, since they have a decent number of installs from users. Other suggested features include daily quotes from the book, an audio version of the book, quizzes on the book, a forum where people can discuss the book, etc."
   ]
  },
  {
   "cell_type": "markdown",
   "metadata": {},
   "source": [
    "This niche seems to be dominated by software for processing and reading ebooks, as well as various collections of libraries and dictionaries, so it's probably not a good idea to build similar apps since there'll be some significant competition.\n",
    "\n",
    "We also notice there are quite a few apps built around the book Quran, which suggests that building an app around a popular book can be profitable. It seems that taking a popular book (perhaps a more recent book) and turning it into an app could be profitable for both the Google Play and the App Store markets."
   ]
  },
  {
   "cell_type": "markdown",
   "metadata": {},
   "source": [
    "# Conclusion\n",
    "\n",
    "The goal of this project was to recommend an app profile that can be profitable for both App Store and Google Play based on data-driven analysis. So we analyzed data about mobile apps in both markets to identify patterns and provided recommendations.\n",
    "\n",
    "We concluded that taking a popular book (perhaps a more recent book) and creating an app out of it could be profitable for both Google Play and App Store markets. The markets are already full of libraries, so we need to add some special features besides the raw version of the book such daily quotes from the book, an audio version of the book, quizzes, puzzles and brain games on the book, a forum where people can discuss the book, etc. "
   ]
  }
 ],
 "metadata": {
  "kernelspec": {
   "display_name": "Python 3",
   "language": "python",
   "name": "python3"
  },
  "language_info": {
   "codemirror_mode": {
    "name": "ipython",
    "version": 3
   },
   "file_extension": ".py",
   "mimetype": "text/x-python",
   "name": "python",
   "nbconvert_exporter": "python",
   "pygments_lexer": "ipython3",
   "version": "3.8.2"
  }
 },
 "nbformat": 4,
 "nbformat_minor": 2
}
